{
 "cells": [
  {
   "cell_type": "code",
   "execution_count": 1,
   "metadata": {},
   "outputs": [
    {
     "name": "stdout",
     "output_type": "stream",
     "text": [
      "Current working directory: /home/fa926284/Documents/Parkinson_FOG_Detection/src\n"
     ]
    }
   ],
   "source": [
    "import os\n",
    "from os.path import join, pardir, curdir\n",
    "import glob\n",
    "import numpy as np\n",
    "import pandas as pd\n",
    "import scipy as sp\n",
    "from tqdm import tqdm\n",
    "from matplotlib import pyplot as plt\n",
    "from joblib import load, dump\n",
    "from sklearn.preprocessing import StandardScaler, label_binarize\n",
    "from sklearn.model_selection import train_test_split\n",
    "from sklearn.ensemble import RandomForestClassifier\n",
    "from sklearn.svm import SVC\n",
    "from sklearn.neighbors import KNeighborsClassifier\n",
    "from sklearn.linear_model import LogisticRegression\n",
    "from sklearn.metrics import average_precision_score, precision_score, classification_report\n",
    "\n",
    "# Set current directory to \"src\"\n",
    "os.chdir(join(os.getcwd(), os.pardir, \"src\"))\n",
    "print(f\"Current working directory: {os.getcwd()}\")\n",
    "\n",
    "from feature_extractor import *\n",
    "from process import *"
   ]
  },
  {
   "cell_type": "code",
   "execution_count": 2,
   "metadata": {},
   "outputs": [],
   "source": [
    "DATASETS = ['tdcsfog', 'defog']\n",
    "DATA_PATH = join(pardir, 'data')\n",
    "PROCESSED_DATA_PATH = join(pardir, \"data\", \"processed\")\n",
    "MODEL_PATH = join(pardir, \"models\")\n",
    "RANDOM_SEED = 42\n",
    "\n",
    "TEST_DIRS = []\n",
    "\n",
    "for dataset in DATASETS:\n",
    "    TEST_DIRS.extend(glob.glob(join(DATA_PATH, \"test\", dataset, \"*.csv\"))[:])\n"
   ]
  },
  {
   "cell_type": "code",
   "execution_count": 14,
   "metadata": {},
   "outputs": [
    {
     "name": "stdout",
     "output_type": "stream",
     "text": [
      "(4583, 66)\n",
      "(281589, 66)\n"
     ]
    },
    {
     "name": "stderr",
     "output_type": "stream",
     "text": [
      "[Parallel(n_jobs=1)]: Using backend SequentialBackend with 1 concurrent workers.\n",
      "[Parallel(n_jobs=1)]: Done   1 out of   1 | elapsed:    0.0s remaining:    0.0s\n",
      "[Parallel(n_jobs=1)]: Done   2 out of   2 | elapsed:    0.0s remaining:    0.0s\n",
      "[Parallel(n_jobs=1)]: Done  10 out of  10 | elapsed:    0.0s finished\n",
      "[Parallel(n_jobs=1)]: Using backend SequentialBackend with 1 concurrent workers.\n",
      "[Parallel(n_jobs=1)]: Done   1 out of   1 | elapsed:    0.0s remaining:    0.0s\n",
      "[Parallel(n_jobs=1)]: Done   2 out of   2 | elapsed:    0.0s remaining:    0.0s\n",
      "[Parallel(n_jobs=1)]: Done  10 out of  10 | elapsed:    0.2s finished\n"
     ]
    }
   ],
   "source": [
    "X_test0 = load(join(PROCESSED_DATA_PATH, \"X_test0.joblib\"))\n",
    "print(X_test0.shape)\n",
    "X_test1 = load(join(PROCESSED_DATA_PATH, \"X_test1.joblib\"))\n",
    "print(X_test1.shape)\n",
    "\n",
    "model = load(join(MODEL_PATH, 'model_rf.sav'))\n",
    "y_pred0 = model.predict(X_test0)\n",
    "# y_pred0 = RunningMedian(y_pred0, 50)\n",
    "y_pred1 = model.predict(X_test1)\n",
    "# y_pred1 = RunningMedian(y_pred1, 50)\n"
   ]
  },
  {
   "cell_type": "code",
   "execution_count": 54,
   "metadata": {},
   "outputs": [
    {
     "name": "stdout",
     "output_type": "stream",
     "text": [
      "(4682, 3) (281688, 3)\n"
     ]
    }
   ],
   "source": [
    "test_df0 = pd.read_csv(TEST_DIRS[0])\n",
    "test_df1 = pd.read_csv(TEST_DIRS[1])\n",
    "\n",
    "y_pred0_final = np.full(shape=test_df0.shape[0],\n",
    "                        fill_value=int(np.median(y_pred0[-99:])))\n",
    "y_pred1_final = np.full(shape=test_df1.shape[0],\n",
    "                        fill_value=int(np.median(y_pred1[-99:])))\n",
    "\n",
    "y_pred0_final[:y_pred0.shape[0]] = y_pred0\n",
    "y_pred1_final[:y_pred1.shape[0]] = y_pred1\n",
    "\n",
    "y_pred0_final = label_binarize(y_pred0_final, classes=[0, 1, 2, 3])[:, 1:]\n",
    "y_pred1_final = label_binarize(y_pred1_final, classes=[0, 1, 2, 3])[:, 1:]\n",
    "\n",
    "print(y_pred0_final.shape, y_pred1_final.shape)\n"
   ]
  },
  {
   "cell_type": "code",
   "execution_count": 60,
   "metadata": {},
   "outputs": [
    {
     "data": {
      "text/plain": [
       "(StartHesitation\n",
       " 0    4680\n",
       " 1       2\n",
       " Name: count, dtype: int64,\n",
       " Turn\n",
       " 0    3896\n",
       " 1     786\n",
       " Name: count, dtype: int64,\n",
       " Walking\n",
       " 0    4682\n",
       " Name: count, dtype: int64)"
      ]
     },
     "execution_count": 60,
     "metadata": {},
     "output_type": "execute_result"
    }
   ],
   "source": [
    "sub0 = pd.DataFrame(columns=[\"ID\", \"StartHesitation\", \"Turn\", \"Walking\"])\n",
    "sub0['ID'] = os.path.basename(TEST_DIRS[0]).split('.')[0] + \"_\" + test_df0['Time'].astype(str)\n",
    "sub0['StartHesitation'] = y_pred0_final[:, 0]\n",
    "sub0['Turn'] = y_pred0_final[:, 1]\n",
    "sub0['Walking'] = y_pred0_final[:, 2]\n",
    "\n",
    "sub0['StartHesitation'].value_counts(), sub0['Turn'].value_counts(), sub0['Walking'].value_counts()"
   ]
  },
  {
   "cell_type": "code",
   "execution_count": 61,
   "metadata": {},
   "outputs": [
    {
     "data": {
      "text/plain": [
       "(StartHesitation\n",
       " 0    281688\n",
       " Name: count, dtype: int64,\n",
       " Turn\n",
       " 0    281153\n",
       " 1       535\n",
       " Name: count, dtype: int64,\n",
       " Walking\n",
       " 0    281686\n",
       " 1         2\n",
       " Name: count, dtype: int64)"
      ]
     },
     "execution_count": 61,
     "metadata": {},
     "output_type": "execute_result"
    }
   ],
   "source": [
    "sub1 = pd.DataFrame(columns=[\"ID\", \"StartHesitation\", \"Turn\", \"Walking\"])\n",
    "sub1['ID'] = os.path.basename(TEST_DIRS[1]).split('.')[0] + \"_\" + test_df1['Time'].astype(str)\n",
    "sub1['StartHesitation'] = y_pred1_final[:, 0]\n",
    "sub1['Turn'] = y_pred1_final[:, 1]\n",
    "sub1['Walking'] = y_pred1_final[:, 2]\n",
    "\n",
    "sub1['StartHesitation'].value_counts(), sub1['Turn'].value_counts(), sub1['Walking'].value_counts()"
   ]
  },
  {
   "cell_type": "code",
   "execution_count": 68,
   "metadata": {},
   "outputs": [
    {
     "data": {
      "text/html": [
       "<div>\n",
       "<style scoped>\n",
       "    .dataframe tbody tr th:only-of-type {\n",
       "        vertical-align: middle;\n",
       "    }\n",
       "\n",
       "    .dataframe tbody tr th {\n",
       "        vertical-align: top;\n",
       "    }\n",
       "\n",
       "    .dataframe thead th {\n",
       "        text-align: right;\n",
       "    }\n",
       "</style>\n",
       "<table border=\"1\" class=\"dataframe\">\n",
       "  <thead>\n",
       "    <tr style=\"text-align: right;\">\n",
       "      <th></th>\n",
       "      <th>ID</th>\n",
       "      <th>StartHesitation</th>\n",
       "      <th>Turn</th>\n",
       "      <th>Walking</th>\n",
       "    </tr>\n",
       "  </thead>\n",
       "  <tbody>\n",
       "    <tr>\n",
       "      <th>0</th>\n",
       "      <td>003f117e14_0</td>\n",
       "      <td>0</td>\n",
       "      <td>0</td>\n",
       "      <td>0</td>\n",
       "    </tr>\n",
       "    <tr>\n",
       "      <th>1</th>\n",
       "      <td>003f117e14_1</td>\n",
       "      <td>0</td>\n",
       "      <td>0</td>\n",
       "      <td>0</td>\n",
       "    </tr>\n",
       "    <tr>\n",
       "      <th>2</th>\n",
       "      <td>003f117e14_2</td>\n",
       "      <td>0</td>\n",
       "      <td>0</td>\n",
       "      <td>0</td>\n",
       "    </tr>\n",
       "    <tr>\n",
       "      <th>3</th>\n",
       "      <td>003f117e14_3</td>\n",
       "      <td>0</td>\n",
       "      <td>0</td>\n",
       "      <td>0</td>\n",
       "    </tr>\n",
       "    <tr>\n",
       "      <th>4</th>\n",
       "      <td>003f117e14_4</td>\n",
       "      <td>0</td>\n",
       "      <td>0</td>\n",
       "      <td>0</td>\n",
       "    </tr>\n",
       "    <tr>\n",
       "      <th>...</th>\n",
       "      <td>...</td>\n",
       "      <td>...</td>\n",
       "      <td>...</td>\n",
       "      <td>...</td>\n",
       "    </tr>\n",
       "    <tr>\n",
       "      <th>281683</th>\n",
       "      <td>02ab235146_281683</td>\n",
       "      <td>0</td>\n",
       "      <td>0</td>\n",
       "      <td>0</td>\n",
       "    </tr>\n",
       "    <tr>\n",
       "      <th>281684</th>\n",
       "      <td>02ab235146_281684</td>\n",
       "      <td>0</td>\n",
       "      <td>0</td>\n",
       "      <td>0</td>\n",
       "    </tr>\n",
       "    <tr>\n",
       "      <th>281685</th>\n",
       "      <td>02ab235146_281685</td>\n",
       "      <td>0</td>\n",
       "      <td>0</td>\n",
       "      <td>0</td>\n",
       "    </tr>\n",
       "    <tr>\n",
       "      <th>281686</th>\n",
       "      <td>02ab235146_281686</td>\n",
       "      <td>0</td>\n",
       "      <td>0</td>\n",
       "      <td>0</td>\n",
       "    </tr>\n",
       "    <tr>\n",
       "      <th>281687</th>\n",
       "      <td>02ab235146_281687</td>\n",
       "      <td>0</td>\n",
       "      <td>0</td>\n",
       "      <td>0</td>\n",
       "    </tr>\n",
       "  </tbody>\n",
       "</table>\n",
       "<p>286370 rows × 4 columns</p>\n",
       "</div>"
      ],
      "text/plain": [
       "                       ID  StartHesitation  Turn  Walking\n",
       "0            003f117e14_0                0     0        0\n",
       "1            003f117e14_1                0     0        0\n",
       "2            003f117e14_2                0     0        0\n",
       "3            003f117e14_3                0     0        0\n",
       "4            003f117e14_4                0     0        0\n",
       "...                   ...              ...   ...      ...\n",
       "281683  02ab235146_281683                0     0        0\n",
       "281684  02ab235146_281684                0     0        0\n",
       "281685  02ab235146_281685                0     0        0\n",
       "281686  02ab235146_281686                0     0        0\n",
       "281687  02ab235146_281687                0     0        0\n",
       "\n",
       "[286370 rows x 4 columns]"
      ]
     },
     "execution_count": 68,
     "metadata": {},
     "output_type": "execute_result"
    }
   ],
   "source": [
    "submission = pd.concat([sub0, sub1], axis=0)\n",
    "\n",
    "submission.to_csv(join(DATA_PATH, \"submission.csv\"))\n",
    "submission"
   ]
  },
  {
   "cell_type": "code",
   "execution_count": null,
   "metadata": {},
   "outputs": [],
   "source": []
  }
 ],
 "metadata": {
  "kernelspec": {
   "display_name": "venv",
   "language": "python",
   "name": "python3"
  },
  "language_info": {
   "codemirror_mode": {
    "name": "ipython",
    "version": 3
   },
   "file_extension": ".py",
   "mimetype": "text/x-python",
   "name": "python",
   "nbconvert_exporter": "python",
   "pygments_lexer": "ipython3",
   "version": "3.10.6"
  },
  "orig_nbformat": 4
 },
 "nbformat": 4,
 "nbformat_minor": 2
}
