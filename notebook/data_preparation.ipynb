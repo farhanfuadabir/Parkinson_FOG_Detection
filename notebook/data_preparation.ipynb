{
 "cells": [
  {
   "cell_type": "code",
   "execution_count": 1,
   "metadata": {},
   "outputs": [
    {
     "name": "stdout",
     "output_type": "stream",
     "text": [
      "Current working directory: /home/fa926284/Documents/Parkinson_FOG_Detection/src\n"
     ]
    }
   ],
   "source": [
    "import os\n",
    "from os.path import join, pardir, curdir\n",
    "import glob\n",
    "import numpy as np\n",
    "import pandas as pd\n",
    "import scipy as sp\n",
    "from tqdm import tqdm\n",
    "from matplotlib import pyplot as plt\n",
    "from sklearn.preprocessing import StandardScaler\n",
    "\n",
    "# Set current directory to \"src\"\n",
    "os.chdir(join(os.getcwd(), os.pardir, \"src\"))\n",
    "print(f\"Current working directory: {os.getcwd()}\")\n",
    "\n",
    "from feature_extractor import *\n",
    "from process import *"
   ]
  },
  {
   "cell_type": "code",
   "execution_count": 2,
   "metadata": {},
   "outputs": [],
   "source": [
    "DATA_PATH = join(pardir, 'data', 'train')\n",
    "DATASETS = ['tdcsfog', 'defog']\n"
   ]
  },
  {
   "cell_type": "code",
   "execution_count": 3,
   "metadata": {},
   "outputs": [
    {
     "name": "stdout",
     "output_type": "stream",
     "text": [
      "\n",
      "\n",
      "Processing tdcsfog dataset ... \n",
      "\n"
     ]
    },
    {
     "name": "stderr",
     "output_type": "stream",
     "text": [
      "100%|██████████| 833/833 [00:41<00:00, 20.18it/s]\n"
     ]
    },
    {
     "name": "stdout",
     "output_type": "stream",
     "text": [
      "\n",
      "\n",
      "Processing defog dataset ... \n",
      "\n"
     ]
    },
    {
     "name": "stderr",
     "output_type": "stream",
     "text": [
      "  3%|▎         | 3/91 [00:00<00:31,  2.82it/s]/home/fa926284/Documents/Parkinson_FOG_Detection/src/feature_extractor.py:56: RuntimeWarning: Precision loss occurred in moment calculation due to catastrophic cancellation. This occurs when the data are nearly identical. Results may be unreliable.\n",
      "  skw = sp.stats.skew(x, axis=axis)\n",
      "/home/fa926284/Documents/Parkinson_FOG_Detection/src/feature_extractor.py:57: RuntimeWarning: Precision loss occurred in moment calculation due to catastrophic cancellation. This occurs when the data are nearly identical. Results may be unreliable.\n",
      "  kut = sp.stats.kurtosis(x, axis=axis)\n",
      "  4%|▍         | 4/91 [00:01<00:30,  2.84it/s]/home/fa926284/Documents/Parkinson_FOG_Detection/src/feature_extractor.py:56: RuntimeWarning: Precision loss occurred in moment calculation due to catastrophic cancellation. This occurs when the data are nearly identical. Results may be unreliable.\n",
      "  skw = sp.stats.skew(x, axis=axis)\n",
      "/home/fa926284/Documents/Parkinson_FOG_Detection/src/feature_extractor.py:57: RuntimeWarning: Precision loss occurred in moment calculation due to catastrophic cancellation. This occurs when the data are nearly identical. Results may be unreliable.\n",
      "  kut = sp.stats.kurtosis(x, axis=axis)\n",
      " 12%|█▏        | 11/91 [00:03<00:19,  4.08it/s]/home/fa926284/Documents/Parkinson_FOG_Detection/src/feature_extractor.py:56: RuntimeWarning: Precision loss occurred in moment calculation due to catastrophic cancellation. This occurs when the data are nearly identical. Results may be unreliable.\n",
      "  skw = sp.stats.skew(x, axis=axis)\n",
      "/home/fa926284/Documents/Parkinson_FOG_Detection/src/feature_extractor.py:57: RuntimeWarning: Precision loss occurred in moment calculation due to catastrophic cancellation. This occurs when the data are nearly identical. Results may be unreliable.\n",
      "  kut = sp.stats.kurtosis(x, axis=axis)\n",
      " 13%|█▎        | 12/91 [00:03<00:19,  4.13it/s]/home/fa926284/Documents/Parkinson_FOG_Detection/src/feature_extractor.py:56: RuntimeWarning: Precision loss occurred in moment calculation due to catastrophic cancellation. This occurs when the data are nearly identical. Results may be unreliable.\n",
      "  skw = sp.stats.skew(x, axis=axis)\n",
      "/home/fa926284/Documents/Parkinson_FOG_Detection/src/feature_extractor.py:57: RuntimeWarning: Precision loss occurred in moment calculation due to catastrophic cancellation. This occurs when the data are nearly identical. Results may be unreliable.\n",
      "  kut = sp.stats.kurtosis(x, axis=axis)\n",
      " 19%|█▊        | 17/91 [00:04<00:19,  3.74it/s]/home/fa926284/Documents/Parkinson_FOG_Detection/src/feature_extractor.py:56: RuntimeWarning: Precision loss occurred in moment calculation due to catastrophic cancellation. This occurs when the data are nearly identical. Results may be unreliable.\n",
      "  skw = sp.stats.skew(x, axis=axis)\n",
      "/home/fa926284/Documents/Parkinson_FOG_Detection/src/feature_extractor.py:57: RuntimeWarning: Precision loss occurred in moment calculation due to catastrophic cancellation. This occurs when the data are nearly identical. Results may be unreliable.\n",
      "  kut = sp.stats.kurtosis(x, axis=axis)\n",
      " 34%|███▍      | 31/91 [00:08<00:17,  3.47it/s]/home/fa926284/Documents/Parkinson_FOG_Detection/src/feature_extractor.py:56: RuntimeWarning: Precision loss occurred in moment calculation due to catastrophic cancellation. This occurs when the data are nearly identical. Results may be unreliable.\n",
      "  skw = sp.stats.skew(x, axis=axis)\n",
      "/home/fa926284/Documents/Parkinson_FOG_Detection/src/feature_extractor.py:57: RuntimeWarning: Precision loss occurred in moment calculation due to catastrophic cancellation. This occurs when the data are nearly identical. Results may be unreliable.\n",
      "  kut = sp.stats.kurtosis(x, axis=axis)\n",
      " 46%|████▌     | 42/91 [00:11<00:14,  3.49it/s]/home/fa926284/Documents/Parkinson_FOG_Detection/src/feature_extractor.py:56: RuntimeWarning: Precision loss occurred in moment calculation due to catastrophic cancellation. This occurs when the data are nearly identical. Results may be unreliable.\n",
      "  skw = sp.stats.skew(x, axis=axis)\n",
      "/home/fa926284/Documents/Parkinson_FOG_Detection/src/feature_extractor.py:57: RuntimeWarning: Precision loss occurred in moment calculation due to catastrophic cancellation. This occurs when the data are nearly identical. Results may be unreliable.\n",
      "  kut = sp.stats.kurtosis(x, axis=axis)\n",
      " 47%|████▋     | 43/91 [00:12<00:14,  3.40it/s]/home/fa926284/Documents/Parkinson_FOG_Detection/src/feature_extractor.py:56: RuntimeWarning: Precision loss occurred in moment calculation due to catastrophic cancellation. This occurs when the data are nearly identical. Results may be unreliable.\n",
      "  skw = sp.stats.skew(x, axis=axis)\n",
      "/home/fa926284/Documents/Parkinson_FOG_Detection/src/feature_extractor.py:57: RuntimeWarning: Precision loss occurred in moment calculation due to catastrophic cancellation. This occurs when the data are nearly identical. Results may be unreliable.\n",
      "  kut = sp.stats.kurtosis(x, axis=axis)\n",
      " 86%|████████▌ | 78/91 [00:20<00:03,  3.87it/s]/home/fa926284/Documents/Parkinson_FOG_Detection/src/feature_extractor.py:56: RuntimeWarning: Precision loss occurred in moment calculation due to catastrophic cancellation. This occurs when the data are nearly identical. Results may be unreliable.\n",
      "  skw = sp.stats.skew(x, axis=axis)\n",
      "/home/fa926284/Documents/Parkinson_FOG_Detection/src/feature_extractor.py:57: RuntimeWarning: Precision loss occurred in moment calculation due to catastrophic cancellation. This occurs when the data are nearly identical. Results may be unreliable.\n",
      "  kut = sp.stats.kurtosis(x, axis=axis)\n",
      " 96%|█████████▌| 87/91 [00:22<00:01,  3.55it/s]/home/fa926284/Documents/Parkinson_FOG_Detection/src/feature_extractor.py:56: RuntimeWarning: Precision loss occurred in moment calculation due to catastrophic cancellation. This occurs when the data are nearly identical. Results may be unreliable.\n",
      "  skw = sp.stats.skew(x, axis=axis)\n",
      "/home/fa926284/Documents/Parkinson_FOG_Detection/src/feature_extractor.py:57: RuntimeWarning: Precision loss occurred in moment calculation due to catastrophic cancellation. This occurs when the data are nearly identical. Results may be unreliable.\n",
      "  kut = sp.stats.kurtosis(x, axis=axis)\n",
      "100%|██████████| 91/91 [00:24<00:00,  3.66it/s]\n"
     ]
    }
   ],
   "source": [
    "X_df = []\n",
    "y = []\n",
    "\n",
    "for dataset in DATASETS:\n",
    "    print(f\"\\n\\nProcessing {dataset} dataset ... \", end='\\n\\n')\n",
    "    file_dirs = glob.glob(join(DATA_PATH, dataset, \"*.csv\"))\n",
    "    for file_dir in tqdm(file_dirs):\n",
    "        df = pd.read_csv(file_dir)\n",
    "        \n",
    "        if dataset == 'defog':\n",
    "            df = df[(df['Valid'] == True) & (df['Task'] == True)]\n",
    "            df = df.drop(['Valid', 'Task'], axis=1).reset_index()\n",
    "\n",
    "        df['label'] = (df['StartHesitation'] * 1) | (df['Turn'] * 2) | (df['Walking'] * 3)\n",
    "        \n",
    "        acc_ap_win, label = get_windowed_data(df['AccAP'].to_numpy(),\n",
    "                                              df['label'].to_numpy(),\n",
    "                                              win_len=100, slide_frac=0.5)\n",
    "        acc_v_win, _ = get_windowed_data(df['AccV'].to_numpy(),\n",
    "                                         df['label'].to_numpy(),\n",
    "                                         win_len=100, slide_frac=0.5)\n",
    "        acc_ml_win, _ = get_windowed_data(df['AccML'].to_numpy(),\n",
    "                                          df['label'].to_numpy(),\n",
    "                                          win_len=100, slide_frac=0.5)\n",
    "        \n",
    "        acc_ap_stat = get_stat_features(acc_ap_win, prefix='AccAP')\n",
    "        acc_v_stat = get_stat_features(acc_v_win, prefix='AccV')\n",
    "        acc_ml_stat = get_stat_features(acc_ml_win, prefix='AccML')\n",
    "        acc_ap_freq = get_freq_features(acc_ap_win, axis=1, fs=128, nperseg=20, prefix='AccAP')\n",
    "        acc_v_freq = get_freq_features(acc_v_win, axis=1, fs=128, nperseg=20, prefix='AccV')\n",
    "        acc_ml_freq = get_freq_features(acc_ml_win, axis=1, fs=128, nperseg=20, prefix='AccML')\n",
    "\n",
    "        features = pd.concat([acc_ap_stat,\n",
    "                              acc_v_stat,\n",
    "                              acc_ml_stat,\n",
    "                              acc_ap_freq,\n",
    "                              acc_v_freq,\n",
    "                              acc_ml_freq], axis=1)\n",
    "\n",
    "        X_df.append(features)\n",
    "        y.append(label)\n",
    "\n",
    "X_df = pd.concat(X_df)\n",
    "X = X_df.to_numpy()\n",
    "y = np.concatenate(y)"
   ]
  },
  {
   "cell_type": "code",
   "execution_count": null,
   "metadata": {},
   "outputs": [],
   "source": []
  }
 ],
 "metadata": {
  "kernelspec": {
   "display_name": "venv",
   "language": "python",
   "name": "python3"
  },
  "language_info": {
   "codemirror_mode": {
    "name": "ipython",
    "version": 3
   },
   "file_extension": ".py",
   "mimetype": "text/x-python",
   "name": "python",
   "nbconvert_exporter": "python",
   "pygments_lexer": "ipython3",
   "version": "3.10.6"
  },
  "orig_nbformat": 4
 },
 "nbformat": 4,
 "nbformat_minor": 2
}
