{
 "cells": [
  {
   "cell_type": "code",
   "execution_count": 1,
   "metadata": {},
   "outputs": [
    {
     "name": "stdout",
     "output_type": "stream",
     "text": [
      "Current working directory: /home/fa926284/Documents/Parkinson_FOG_Detection/src\n"
     ]
    }
   ],
   "source": [
    "import os\n",
    "from os.path import join, pardir, curdir\n",
    "import glob\n",
    "import numpy as np\n",
    "import pandas as pd\n",
    "import scipy as sp\n",
    "from tqdm import tqdm\n",
    "from matplotlib import pyplot as plt\n",
    "from joblib import load, dump\n",
    "from sklearn.preprocessing import StandardScaler\n",
    "\n",
    "# Set current directory to \"src\"\n",
    "os.chdir(join(os.getcwd(), os.pardir, \"src\"))\n",
    "print(f\"Current working directory: {os.getcwd()}\")\n",
    "\n",
    "from feature_extractor import *\n",
    "from process import *"
   ]
  },
  {
   "cell_type": "code",
   "execution_count": 5,
   "metadata": {},
   "outputs": [
    {
     "name": "stdout",
     "output_type": "stream",
     "text": [
      "Total subjects: 924\n",
      "Train subjects: 905\n",
      "Validation subjects: 19\n",
      "Test subjects: 2\n"
     ]
    }
   ],
   "source": [
    "DATA_PATH = join(pardir, 'data')\n",
    "DATASETS = ['tdcsfog', 'defog']\n",
    "FILE_DIRS = []\n",
    "TRAIN_DIRS = []\n",
    "VAL_DIRS = []\n",
    "TEST_DIRS = []\n",
    "\n",
    "RANDOM_SEED = 42\n",
    "\n",
    "for dataset in DATASETS:\n",
    "    FILE_DIRS.extend(glob.glob(join(DATA_PATH, \"train\", dataset, \"*.csv\"))[:])\n",
    "    TEST_DIRS.extend(glob.glob(join(DATA_PATH, \"test\", dataset, \"*.csv\"))[:])\n",
    "TRAIN_DIRS, VAL_DIRS = random_split_list(FILE_DIRS, \n",
    "                                         random_seed=42,\n",
    "                                         split=0.98)\n",
    "\n",
    "print(f\"Total subjects: {len(FILE_DIRS)}\")\n",
    "print(f\"Train subjects: {len(TRAIN_DIRS)}\")\n",
    "print(f\"Validation subjects: {len(VAL_DIRS)}\")\n",
    "print(f\"Test subjects: {len(TEST_DIRS)}\")\n"
   ]
  },
  {
   "cell_type": "code",
   "execution_count": 3,
   "metadata": {},
   "outputs": [
    {
     "name": "stdout",
     "output_type": "stream",
     "text": [
      "\n",
      "\n",
      "Processing tdcsfog dataset ... \n",
      "\n"
     ]
    },
    {
     "name": "stderr",
     "output_type": "stream",
     "text": [
      "100%|██████████| 833/833 [00:02<00:00, 283.13it/s]\n"
     ]
    },
    {
     "name": "stdout",
     "output_type": "stream",
     "text": [
      "\n",
      "\n",
      "Processing defog dataset ... \n",
      "\n"
     ]
    },
    {
     "name": "stderr",
     "output_type": "stream",
     "text": [
      "100%|██████████| 91/91 [00:04<00:00, 19.05it/s]\n"
     ]
    }
   ],
   "source": [
    "X_df = []\n",
    "y = []\n",
    "\n",
    "print(f\"\\n\\nProcessing {dataset} dataset ... \", end='\\n\\n')\n",
    "\n",
    "    \n",
    "for file_dir in tqdm([TRAIN_DIRS[0]]):\n",
    "    df = pd.read_csv(file_dir)\n",
    "    \n",
    "    if 'Task' in df.columns and 'Valid' in df.columns:\n",
    "        df = df[(df['Valid'] == True) & (df['Task'] == True)]\n",
    "        df = df.drop(['Valid', 'Task'], axis=1).reset_index()\n",
    "\n",
    "        df['label'] = (df['StartHesitation'] * 1) | (df['Turn'] * 2) | (df['Walking'] * 3)\n",
    "    \n",
    "        acc_ap_win, label = get_windowed_data(df['AccAP'].to_numpy(),\n",
    "                                              df['label'].to_numpy(),\n",
    "                                              win_len=100, slide_step=1)\n",
    "        acc_v_win, _ = get_windowed_data(df['AccV'].to_numpy(),\n",
    "                                         df['label'].to_numpy(),\n",
    "                                         win_len=100, slide_step=1)\n",
    "        acc_ml_win, _ = get_windowed_data(df['AccML'].to_numpy(),\n",
    "                                          df['label'].to_numpy(),\n",
    "                                          win_len=100, slide_step=1)\n",
    "    \n",
    "        acc_ap_stat = get_stat_features(acc_ap_win, prefix='AccAP')\n",
    "        acc_v_stat = get_stat_features(acc_v_win, prefix='AccV')\n",
    "        acc_ml_stat = get_stat_features(acc_ml_win, prefix='AccML')\n",
    "        acc_ap_freq = get_freq_features(acc_ap_win, axis=1, fs=128, nperseg=20, prefix='AccAP')\n",
    "        acc_v_freq = get_freq_features(acc_v_win, axis=1, fs=128, nperseg=20, prefix='AccV')\n",
    "        acc_ml_freq = get_freq_features(acc_ml_win, axis=1, fs=128, nperseg=20, prefix='AccML')\n",
    "\n",
    "        features = pd.concat([acc_ap_stat,\n",
    "                              acc_v_stat,\n",
    "                              acc_ml_stat,\n",
    "                              acc_ap_freq,\n",
    "                              acc_v_freq,\n",
    "                              acc_ml_freq], axis=1)\n",
    "\n",
    "        X_df.append(features)\n",
    "        y.append(label)\n",
    "\n",
    "# X_df = pd.concat(X_df)\n",
    "# X = X_df.to_numpy()\n",
    "# y = np.concatenate(y)"
   ]
  },
  {
   "cell_type": "code",
   "execution_count": 4,
   "metadata": {},
   "outputs": [
    {
     "data": {
      "text/plain": [
       "['../data/processed/y.joblib']"
      ]
     },
     "execution_count": 4,
     "metadata": {},
     "output_type": "execute_result"
    }
   ],
   "source": [
    "dump(X_df, join(pardir, \"data\", \"processed\", \"X_df.joblib\"))\n",
    "dump(X, join(pardir, \"data\", \"processed\", \"X.joblib\"))\n",
    "dump(y, join(pardir, \"data\", \"processed\", \"y.joblib\"))\n"
   ]
  },
  {
   "cell_type": "code",
   "execution_count": 5,
   "metadata": {},
   "outputs": [
    {
     "data": {
      "text/plain": [
       "(222114, 66)"
      ]
     },
     "execution_count": 5,
     "metadata": {},
     "output_type": "execute_result"
    }
   ],
   "source": [
    "X_df.shape"
   ]
  },
  {
   "cell_type": "code",
   "execution_count": 6,
   "metadata": {},
   "outputs": [
    {
     "data": {
      "text/plain": [
       "(array([0. , 0.5, 1. , 1.5, 2. , 2.5, 3. ]),\n",
       " array([168602,      3,   6156,     13,  41796,      2,   5542]))"
      ]
     },
     "execution_count": 6,
     "metadata": {},
     "output_type": "execute_result"
    }
   ],
   "source": [
    "np.unique(y, return_counts=True)\n"
   ]
  },
  {
   "cell_type": "code",
   "execution_count": null,
   "metadata": {},
   "outputs": [],
   "source": []
  }
 ],
 "metadata": {
  "kernelspec": {
   "display_name": "venv",
   "language": "python",
   "name": "python3"
  },
  "language_info": {
   "codemirror_mode": {
    "name": "ipython",
    "version": 3
   },
   "file_extension": ".py",
   "mimetype": "text/x-python",
   "name": "python",
   "nbconvert_exporter": "python",
   "pygments_lexer": "ipython3",
   "version": "3.10.6"
  },
  "orig_nbformat": 4
 },
 "nbformat": 4,
 "nbformat_minor": 2
}
