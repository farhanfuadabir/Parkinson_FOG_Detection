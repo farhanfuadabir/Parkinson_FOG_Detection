{
 "cells": [
  {
   "cell_type": "code",
   "execution_count": 2,
   "metadata": {},
   "outputs": [
    {
     "name": "stdout",
     "output_type": "stream",
     "text": [
      "Current working directory: /home/fa926284/Documents/Parkinson_FOG_Detection/src\n"
     ]
    }
   ],
   "source": [
    "import os\n",
    "from os.path import join, pardir, curdir\n",
    "import glob\n",
    "import numpy as np\n",
    "import pandas as pd\n",
    "import scipy as sp\n",
    "from tqdm import tqdm\n",
    "from matplotlib import pyplot as plt\n",
    "from joblib import load, dump\n",
    "from sklearn.preprocessing import StandardScaler\n",
    "\n",
    "import warnings\n",
    "warnings.filterwarnings('ignore')\n",
    "\n",
    "# Set current directory to \"src\"\n",
    "os.chdir(join(os.getcwd(), os.pardir, \"src\"))\n",
    "print(f\"Current working directory: {os.getcwd()}\")\n",
    "\n",
    "from feature_extractor import *\n",
    "from process import *"
   ]
  },
  {
   "cell_type": "code",
   "execution_count": 3,
   "metadata": {},
   "outputs": [
    {
     "name": "stdout",
     "output_type": "stream",
     "text": [
      "Total subjects: 924\n",
      "Train subjects: 905\n",
      "Validation subjects: 19\n",
      "Test subjects: 2\n"
     ]
    }
   ],
   "source": [
    "DATASETS = ['tdcsfog', 'defog']\n",
    "DATA_PATH = join(pardir, 'data')\n",
    "PROCESSED_DATA_PATH = join(pardir, \"data\", \"processed\")\n",
    "FILE_DIRS = []\n",
    "TRAIN_DIRS = []\n",
    "VAL_DIRS = []\n",
    "TEST_DIRS = []\n",
    "\n",
    "RANDOM_SEED = 42\n",
    "\n",
    "if not os.path.isdir(PROCESSED_DATA_PATH):\n",
    "    os.mkdir(PROCESSED_DATA_PATH)\n",
    "\n",
    "for dataset in DATASETS:\n",
    "    FILE_DIRS.extend(glob.glob(join(DATA_PATH, \"train\", dataset, \"*.csv\"))[:])\n",
    "    TEST_DIRS.extend(glob.glob(join(DATA_PATH, \"test\", dataset, \"*.csv\"))[:])\n",
    "TRAIN_DIRS, VAL_DIRS = random_split_list(FILE_DIRS, \n",
    "                                         random_seed=42,\n",
    "                                         split=0.98)\n",
    "\n",
    "print(f\"Total subjects: {len(FILE_DIRS)}\")\n",
    "print(f\"Train subjects: {len(TRAIN_DIRS)}\")\n",
    "print(f\"Validation subjects: {len(VAL_DIRS)}\")\n",
    "print(f\"Test subjects: {len(TEST_DIRS)}\")\n"
   ]
  },
  {
   "cell_type": "code",
   "execution_count": 4,
   "metadata": {},
   "outputs": [],
   "source": [
    "def get_feature_label(df):\n",
    "    if 'Task' in df.columns and 'Valid' in df.columns:\n",
    "        df = df[(df['Valid'] == True) & (df['Task'] == True)]\n",
    "        df = df.drop(['Valid', 'Task'], axis=1).reset_index()\n",
    "\n",
    "    df['label'] = (df['StartHesitation'] * 1) | (df['Turn']\n",
    "                                                 * 2) | (df['Walking'] * 3)\n",
    "    df = df.astype({'label': 'int'})\n",
    "\n",
    "    acc_ap_win, label = get_windowed_data(df['AccAP'].to_numpy(),\n",
    "                                          df['label'].to_numpy(),\n",
    "                                          win_len=100, slide_step=1)\n",
    "    acc_v_win, _ = get_windowed_data(df['AccV'].to_numpy(),\n",
    "                                     df['label'].to_numpy(),\n",
    "                                     win_len=100, slide_step=1)\n",
    "    acc_ml_win, _ = get_windowed_data(df['AccML'].to_numpy(),\n",
    "                                      df['label'].to_numpy(),\n",
    "                                      win_len=100, slide_step=1)\n",
    "\n",
    "    acc_ap_stat = get_stat_features(acc_ap_win, prefix='AccAP')\n",
    "    acc_v_stat = get_stat_features(acc_v_win, prefix='AccV')\n",
    "    acc_ml_stat = get_stat_features(acc_ml_win, prefix='AccML')\n",
    "    acc_ap_freq = get_freq_features(\n",
    "        acc_ap_win, axis=1, fs=128, nperseg=20, prefix='AccAP')\n",
    "    acc_v_freq = get_freq_features(\n",
    "        acc_v_win, axis=1, fs=128, nperseg=20, prefix='AccV')\n",
    "    acc_ml_freq = get_freq_features(\n",
    "        acc_ml_win, axis=1, fs=128, nperseg=20, prefix='AccML')\n",
    "\n",
    "    features = pd.concat([acc_ap_stat,\n",
    "                          acc_v_stat,\n",
    "                          acc_ml_stat,\n",
    "                          acc_ap_freq,\n",
    "                          acc_v_freq,\n",
    "                          acc_ml_freq], axis=1)\n",
    "\n",
    "    label = label.astype(int)\n",
    "\n",
    "    return features, label\n",
    "\n",
    "\n",
    "def get_feature(df):\n",
    "    if 'Task' in df.columns and 'Valid' in df.columns:\n",
    "        df = df[(df['Valid'] == True) & (df['Task'] == True)]\n",
    "        df = df.drop(['Valid', 'Task'], axis=1).reset_index()\n",
    "\n",
    "    acc_ap_win, _ = get_windowed_data(df['AccAP'].to_numpy(),\n",
    "                                          None,\n",
    "                                          win_len=100, slide_step=1)\n",
    "    acc_v_win, _ = get_windowed_data(df['AccV'].to_numpy(),\n",
    "                                     None,\n",
    "                                     win_len=100, slide_step=1)\n",
    "    acc_ml_win, _ = get_windowed_data(df['AccML'].to_numpy(),\n",
    "                                      None,\n",
    "                                      win_len=100, slide_step=1)\n",
    "\n",
    "    acc_ap_stat = get_stat_features(acc_ap_win, prefix='AccAP')\n",
    "    acc_v_stat = get_stat_features(acc_v_win, prefix='AccV')\n",
    "    acc_ml_stat = get_stat_features(acc_ml_win, prefix='AccML')\n",
    "    acc_ap_freq = get_freq_features(\n",
    "        acc_ap_win, axis=1, fs=128, nperseg=20, prefix='AccAP')\n",
    "    acc_v_freq = get_freq_features(\n",
    "        acc_v_win, axis=1, fs=128, nperseg=20, prefix='AccV')\n",
    "    acc_ml_freq = get_freq_features(\n",
    "        acc_ml_win, axis=1, fs=128, nperseg=20, prefix='AccML')\n",
    "\n",
    "    features = pd.concat([acc_ap_stat,\n",
    "                          acc_v_stat,\n",
    "                          acc_ml_stat,\n",
    "                          acc_ap_freq,\n",
    "                          acc_v_freq,\n",
    "                          acc_ml_freq], axis=1)\n",
    "\n",
    "    return features\n"
   ]
  },
  {
   "cell_type": "code",
   "execution_count": 9,
   "metadata": {},
   "outputs": [],
   "source": [
    "if not os.path.isfile(join(PROCESSED_DATA_PATH, \"X_train_df.joblib\")):\n",
    "    print(f\"\\n\\nProcessing Train Dataset ... \", end='\\n\\n')\n",
    "    \n",
    "    X_train_df = []\n",
    "    y_train = []\n",
    "    \n",
    "    for file_dir in tqdm(TRAIN_DIRS):\n",
    "        df = pd.read_csv(file_dir)\n",
    "        features, label = get_feature_label(df)\n",
    "        X_train_df.append(features)\n",
    "        y_train.append(label)\n",
    "\n",
    "    X_train_df = pd.concat(X_train_df)\n",
    "    X_train = X_train_df.to_numpy()\n",
    "    y_train = np.concatenate(y_train)\n",
    "\n",
    "    dump(X_train_df, join(PROCESSED_DATA_PATH, \"X_train_df.joblib\"))\n",
    "    dump(X_train, join(PROCESSED_DATA_PATH, \"X_train.joblib\"))\n",
    "    dump(y_train, join(PROCESSED_DATA_PATH, \"y_train.joblib\"))\n",
    "\n",
    "else:\n",
    "    X_train_df = load(join(PROCESSED_DATA_PATH, \"X_train_df.joblib\"))\n",
    "    X_train = load(join(PROCESSED_DATA_PATH, \"X_train.joblib\"))\n",
    "    y_train = load(join(PROCESSED_DATA_PATH, \"y_train.joblib\"))\n"
   ]
  },
  {
   "cell_type": "code",
   "execution_count": 10,
   "metadata": {},
   "outputs": [],
   "source": [
    "if not os.path.isfile(join(PROCESSED_DATA_PATH, \"X_val_df.joblib\")):\n",
    "    print(f\"\\n\\nProcessing Validation Dataset ... \", end='\\n\\n')\n",
    "\n",
    "    X_val_df = []\n",
    "    y_val = []\n",
    "\n",
    "    for file_dir in tqdm(VAL_DIRS):\n",
    "        df = pd.read_csv(file_dir)\n",
    "        features, label = get_feature_label(df)\n",
    "        X_val_df.append(features)\n",
    "        y_val.append(label)\n",
    "\n",
    "    X_val_df = pd.concat(X_val_df)\n",
    "    X_val = X_val_df.to_numpy()\n",
    "    y_val = np.concatenate(y_val)\n",
    "\n",
    "    dump(X_val_df, join(PROCESSED_DATA_PATH, \"X_val_df.joblib\"))\n",
    "    dump(X_val, join(PROCESSED_DATA_PATH, \"X_val.joblib\"))\n",
    "    dump(y_val, join(PROCESSED_DATA_PATH, \"y_val.joblib\"))\n",
    "\n",
    "else:\n",
    "    X_val_df = load(join(PROCESSED_DATA_PATH, \"X_val_df.joblib\"))\n",
    "    X_val = load(join(PROCESSED_DATA_PATH, \"X_val.joblib\"))\n",
    "    y_val = load(join(PROCESSED_DATA_PATH, \"y_val.joblib\"))\n"
   ]
  },
  {
   "cell_type": "code",
   "execution_count": 12,
   "metadata": {},
   "outputs": [],
   "source": [
    "if not os.path.isfile(join(PROCESSED_DATA_PATH, \"X_test_df0.joblib\")):\n",
    "    print(f\"\\n\\nProcessing Test Dataset ... \", end='\\n\\n')\n",
    "\n",
    "    for idx, file_dir in enumerate(TEST_DIRS):\n",
    "        df = pd.read_csv(file_dir)\n",
    "        X_test_df = get_feature(df)\n",
    "        X_test = X_test_df.to_numpy()\n",
    "        dump(X_test_df, join(PROCESSED_DATA_PATH, f\"X_test_df{idx}.joblib\"))\n",
    "        dump(X_test, join(PROCESSED_DATA_PATH, f\"X_test{idx}.joblib\"))\n",
    "\n",
    "else:\n",
    "    X_test0_df = load(join(PROCESSED_DATA_PATH, \"X_test_df0.joblib\"))\n",
    "    X_test0 = load(join(PROCESSED_DATA_PATH, \"X_test0.joblib\"))\n",
    "    X_test1_df = load(join(PROCESSED_DATA_PATH, \"X_test_df1.joblib\"))\n",
    "    X_test1 = load(join(PROCESSED_DATA_PATH, \"X_test1.joblib\"))\n"
   ]
  },
  {
   "cell_type": "code",
   "execution_count": 14,
   "metadata": {},
   "outputs": [
    {
     "name": "stdout",
     "output_type": "stream",
     "text": [
      "(10928677, 66) (153841, 66) (4583, 66) (281589, 66)\n",
      "(10928677,) (153841,)\n"
     ]
    }
   ],
   "source": [
    "print(X_train.shape, X_val.shape, X_test0.shape, X_test1.shape)\n",
    "print(y_train.shape, y_val.shape)"
   ]
  }
 ],
 "metadata": {
  "kernelspec": {
   "display_name": "venv",
   "language": "python",
   "name": "python3"
  },
  "language_info": {
   "codemirror_mode": {
    "name": "ipython",
    "version": 3
   },
   "file_extension": ".py",
   "mimetype": "text/x-python",
   "name": "python",
   "nbconvert_exporter": "python",
   "pygments_lexer": "ipython3",
   "version": "3.10.6"
  },
  "orig_nbformat": 4
 },
 "nbformat": 4,
 "nbformat_minor": 2
}
